{
 "cells": [
  {
   "cell_type": "code",
   "execution_count": 1,
   "metadata": {},
   "outputs": [],
   "source": [
    "import numpy as np\n",
    "import pandas as pd\n",
    "import os \n",
    "from random import sample\n"
   ]
  },
  {
   "cell_type": "code",
   "execution_count": 2,
   "metadata": {},
   "outputs": [],
   "source": [
    "df_edgelist = pd.read_csv('large_twitch_edges.csv')\n",
    "df_features = pd.read_csv('large_twitch_features.csv')\n",
    "\n",
    "df_edgelist_list = df_edgelist.values.tolist()\n",
    "df_features_val = df_features.values"
   ]
  },
  {
   "cell_type": "code",
   "execution_count": 3,
   "metadata": {},
   "outputs": [],
   "source": [
    "df_edgelist_list = sample(df_edgelist_list, int(0.005*len(df_edgelist_list)))"
   ]
  },
  {
   "cell_type": "code",
   "execution_count": 4,
   "metadata": {},
   "outputs": [
    {
     "data": {
      "text/plain": [
       "33987"
      ]
     },
     "execution_count": 4,
     "metadata": {},
     "output_type": "execute_result"
    }
   ],
   "source": [
    "len(df_edgelist_list)"
   ]
  },
  {
   "cell_type": "code",
   "execution_count": 5,
   "metadata": {},
   "outputs": [],
   "source": [
    "dict = {}\n",
    "new_features_list = []\n",
    "count = 1\n",
    "for i in df_edgelist_list:\n",
    "    for j in i:\n",
    "        if j not in dict:\n",
    "            dict[j] = count\n",
    "            count += 1\n",
    "            #new_features_list.append(df_features_val[j,:].tolist())"
   ]
  },
  {
   "cell_type": "code",
   "execution_count": 6,
   "metadata": {},
   "outputs": [],
   "source": [
    "for i in range(len(df_edgelist_list)):\n",
    "    for j in range(len(df_edgelist_list[i])):\n",
    "        df_edgelist_list[i][j] = dict[df_edgelist_list[i][j]]\n",
    "    \n",
    "\n",
    "for key, value in dict.items():\n",
    "    df_features_val[key][5] = value\n",
    "    new_features_list.append(df_features_val[key])\n"
   ]
  },
  {
   "cell_type": "code",
   "execution_count": 7,
   "metadata": {},
   "outputs": [
    {
     "name": "stdout",
     "output_type": "stream",
     "text": [
      "<class 'pandas.core.frame.DataFrame'>\n",
      "RangeIndex: 33987 entries, 0 to 33986\n",
      "Data columns (total 2 columns):\n",
      " #   Column  Non-Null Count  Dtype\n",
      "---  ------  --------------  -----\n",
      " 0   0       33987 non-null  int64\n",
      " 1   1       33987 non-null  int64\n",
      "dtypes: int64(2)\n",
      "memory usage: 531.2 KB\n",
      "None\n",
      "<class 'pandas.core.frame.DataFrame'>\n",
      "RangeIndex: 37908 entries, 0 to 37907\n",
      "Data columns (total 9 columns):\n",
      " #   Column  Non-Null Count  Dtype \n",
      "---  ------  --------------  ----- \n",
      " 0   0       37908 non-null  int64 \n",
      " 1   1       37908 non-null  int64 \n",
      " 2   2       37908 non-null  int64 \n",
      " 3   3       37908 non-null  object\n",
      " 4   4       37908 non-null  object\n",
      " 5   5       37908 non-null  int64 \n",
      " 6   6       37908 non-null  int64 \n",
      " 7   7       37908 non-null  object\n",
      " 8   8       37908 non-null  int64 \n",
      "dtypes: int64(6), object(3)\n",
      "memory usage: 2.6+ MB\n",
      "None\n"
     ]
    }
   ],
   "source": [
    "df_edge = pd.DataFrame(df_edgelist_list)\n",
    "df_features = pd.DataFrame(new_features_list)\n",
    "print(df_edge.info())\n",
    "print(df_features.info())"
   ]
  },
  {
   "cell_type": "code",
   "execution_count": 8,
   "metadata": {},
   "outputs": [],
   "source": [
    "df_edge.to_csv(\"edge_list.csv\")\n",
    "df_features.to_csv(\"features_list.csv\")"
   ]
  },
  {
   "cell_type": "code",
   "execution_count": 2,
   "metadata": {},
   "outputs": [],
   "source": [
    "from karateclub import GraphReader\n",
    "\n",
    "reader = GraphReader(\"facebook\")\n",
    "\n",
    "graph = reader.get_graph()\n",
    "target = reader.get_target()"
   ]
  },
  {
   "cell_type": "code",
   "execution_count": 4,
   "metadata": {},
   "outputs": [
    {
     "data": {
      "text/plain": [
       "{}"
      ]
     },
     "execution_count": 4,
     "metadata": {},
     "output_type": "execute_result"
    }
   ],
   "source": [
    "graph"
   ]
  }
 ],
 "metadata": {
  "interpreter": {
   "hash": "9f536c2fe9b8cbf713674cc7ce9947b079b31dbc9e46e47bda2654f6d7cf6083"
  },
  "kernelspec": {
   "display_name": "Python 3.9.7 ('base')",
   "language": "python",
   "name": "python3"
  },
  "language_info": {
   "codemirror_mode": {
    "name": "ipython",
    "version": 3
   },
   "file_extension": ".py",
   "mimetype": "text/x-python",
   "name": "python",
   "nbconvert_exporter": "python",
   "pygments_lexer": "ipython3",
   "version": "3.9.7"
  },
  "orig_nbformat": 4
 },
 "nbformat": 4,
 "nbformat_minor": 2
}
